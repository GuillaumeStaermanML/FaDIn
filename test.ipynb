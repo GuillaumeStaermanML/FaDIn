{
 "cells": [
  {
   "cell_type": "code",
   "execution_count": 3,
   "id": "273e53e8",
   "metadata": {},
   "outputs": [],
   "source": [
    "from hawkes_discret.kernels import KernelExpDiscret\n",
    "from hawkes_discret.hawkes_discret_l2 import HawkesDiscretL2\n",
    "import torch\n",
    "import numpy as np\n",
    "import matplotlib.pyplot as plt\n",
    "import time"
   ]
  },
  {
   "cell_type": "code",
   "execution_count": 4,
   "id": "88e821df",
   "metadata": {},
   "outputs": [],
   "source": [
    "dim = 2\n",
    "baseline = torch.tensor([1, 2])\n",
    "decay = torch.tensor([[2, 3], [8, 4]])\n",
    "adjacency = torch.tensor([[1, 0.3], [0.1, 0.4]])\n",
    "baseline = torch.ones(dim)\n",
    "#decay = torch.ones(dim,dim)\n",
    "#adjacency = torch.ones(dim,dim)\n",
    "upper = 1\n",
    "size_discret = 100\n",
    "time = torch.linspace(0, 1, size_discret)\n",
    "\n",
    "events_bool = torch.zeros(dim, 100000)\n",
    "events_bool[0, ::3] += 1\n",
    "events_bool[1, ::20] += 1"
   ]
  },
  {
   "cell_type": "code",
   "execution_count": 5,
   "id": "21860913",
   "metadata": {},
   "outputs": [],
   "source": [
    "model = KernelExpDiscret(decay,  upper, \n",
    "                         0.01, size_grid=100000)"
   ]
  },
  {
   "cell_type": "code",
   "execution_count": 6,
   "id": "f8785e5f",
   "metadata": {},
   "outputs": [],
   "source": [
    "kernel_values = model.eval(time)"
   ]
  },
  {
   "cell_type": "code",
   "execution_count": 7,
   "id": "1eb16b02",
   "metadata": {},
   "outputs": [
    {
     "data": {
      "image/png": "[encoded data removed]",
      "text/plain": [
       "<Figure size 432x288 with 1 Axes>"
      ]
     },
     "metadata": {
      "needs_background": "light"
     },
     "output_type": "display_data"
    }
   ],
   "source": [
    "for i in range(dim):\n",
    "    for j in range(dim):\n",
    "        plt.plot(time, kernel_values[i,j])"
   ]
  },
  {
   "cell_type": "code",
   "execution_count": 8,
   "id": "ce2c85a5",
   "metadata": {},
   "outputs": [
    {
     "data": {
      "text/plain": [
       "tensor([[1., 0., 0.,  ..., 0., 0., 1.],\n",
       "        [1., 0., 0.,  ..., 0., 0., 0.]])"
      ]
     },
     "execution_count": 8,
     "metadata": {},
     "output_type": "execute_result"
    }
   ],
   "source": [
    "events_bool"
   ]
  },
  {
   "cell_type": "code",
   "execution_count": 9,
   "id": "9e33a584",
   "metadata": {},
   "outputs": [
    {
     "name": "stdout",
     "output_type": "stream",
     "text": [
      "CPU times: user 3 µs, sys: 1 µs, total: 4 µs\n",
      "Wall time: 7.87 µs\n"
     ]
    }
   ],
   "source": [
    "%time\n",
    "intens = model.intensity_eval(baseline, adjacency, events_bool)\n"
   ]
  },
  {
   "cell_type": "code",
   "execution_count": 10,
   "id": "3fe25133",
   "metadata": {},
   "outputs": [
    {
     "name": "stdout",
     "output_type": "stream",
     "text": [
      "CPU times: user 3 µs, sys: 1 µs, total: 4 µs\n",
      "Wall time: 8.82 µs\n"
     ]
    },
    {
     "data": {
      "text/plain": [
       "tensor([[1.0000, 1.0000],\n",
       "        [1.0000, 1.0000]])"
      ]
     },
     "execution_count": 10,
     "metadata": {},
     "output_type": "execute_result"
    }
   ],
   "source": [
    "%time\n",
    "model.integrate()"
   ]
  },
  {
   "cell_type": "code",
   "execution_count": 11,
   "id": "a69128ce",
   "metadata": {},
   "outputs": [
    {
     "name": "stdout",
     "output_type": "stream",
     "text": [
      "CPU times: user 4 µs, sys: 1 µs, total: 5 µs\n",
      "Wall time: 8.34 µs\n"
     ]
    },
    {
     "data": {
      "text/plain": [
       "torch.Size([2, 2, 100])"
      ]
     },
     "execution_count": 11,
     "metadata": {},
     "output_type": "execute_result"
    }
   ],
   "source": [
    "%time\n",
    "model.grad_params(time).shape"
   ]
  },
  {
   "cell_type": "code",
   "execution_count": 1,
   "id": "25ca4913",
   "metadata": {},
   "outputs": [],
   "source": [
    "from hawkes_discret.kernels import KernelExpDiscret\n",
    "from hawkes_discret.hawkes_discret_l2 import HawkesDiscretL2\n",
    "import torch\n",
    "import numpy as np\n",
    "import matplotlib.pyplot as plt\n",
    "import time\n",
    "kernel_model = 'KernelExpDiscret'\n",
    "baseline = torch.tensor([1.1, 1.3])\n",
    "kernel_params = torch.tensor([[2, 3], [8, 4]])\n",
    "adjacency = torch.tensor([[1, 0.3], [0.1, 0.4]])\n",
    "end_time = 5\n",
    "discret_step = 0.1\n",
    "events = [torch.tensor([0.7653, 0.76187, 2.323, 2.1]),torch.tensor([3.653, 2.76187, 4.323, 3.1]) ]\n",
    "solver = HawkesDiscretL2(kernel_model, kernel_params, \n",
    "                 baseline,  adjacency, discret_step,\n",
    "                 solver='RMSprop', step_size=1e-3,\n",
    "                 max_iter=100, log=False,\n",
    "                 random_state=None, device='cpu')"
   ]
  },
  {
   "cell_type": "code",
   "execution_count": 2,
   "id": "5b233110",
   "metadata": {},
   "outputs": [
    {
     "ename": "AttributeError",
     "evalue": "'HawkesDiscretL2' object has no attribute 'events_loc_grid'",
     "output_type": "error",
     "traceback": [
      "\u001b[0;31m---------------------------------------------------------------------------\u001b[0m",
      "\u001b[0;31mAttributeError\u001b[0m                            Traceback (most recent call last)",
      "Input \u001b[0;32mIn [2]\u001b[0m, in \u001b[0;36m<cell line: 2>\u001b[0;34m()\u001b[0m\n\u001b[1;32m      1\u001b[0m solver\u001b[38;5;241m.\u001b[39mkernel_model\u001b[38;5;241m.\u001b[39meval(torch\u001b[38;5;241m.\u001b[39mlinspace(\u001b[38;5;241m0\u001b[39m,\u001b[38;5;241m1\u001b[39m, \u001b[38;5;241m11\u001b[39m)[:\u001b[38;5;241m-\u001b[39m\u001b[38;5;241m1\u001b[39m])\n\u001b[0;32m----> 2\u001b[0m \u001b[43msolver\u001b[49m\u001b[38;5;241;43m.\u001b[39;49m\u001b[43mlossl2\u001b[49m\u001b[43m(\u001b[49m\u001b[43m)\u001b[49m\n",
      "File \u001b[0;32m~/Desktop/PostDoc/HawkesDiscret/hawkes_discret/hawkes_discret_l2.py:58\u001b[0m, in \u001b[0;36mHawkesDiscretL2.lossl2\u001b[0;34m(self)\u001b[0m\n\u001b[1;32m     55\u001b[0m \u001b[38;5;28;01mdef\u001b[39;00m \u001b[38;5;21mlossl2\u001b[39m(\u001b[38;5;28mself\u001b[39m):\n\u001b[1;32m     56\u001b[0m     intensity \u001b[38;5;241m=\u001b[39m \u001b[38;5;28mself\u001b[39m\u001b[38;5;241m.\u001b[39mkernel_model\u001b[38;5;241m.\u001b[39mintensity_eval(\u001b[38;5;28mself\u001b[39m\u001b[38;5;241m.\u001b[39mbaseline,\n\u001b[1;32m     57\u001b[0m                                                  \u001b[38;5;28mself\u001b[39m\u001b[38;5;241m.\u001b[39madjacency, \n\u001b[0;32m---> 58\u001b[0m                                                  \u001b[38;5;28;43mself\u001b[39;49m\u001b[38;5;241;43m.\u001b[39;49m\u001b[43mevents_loc_grid\u001b[49m)\n\u001b[1;32m     60\u001b[0m     \u001b[38;5;28;01mreturn\u001b[39;00m (((intensity\u001b[38;5;241m*\u001b[39m\u001b[38;5;241m*\u001b[39m\u001b[38;5;241m2\u001b[39m)\u001b[38;5;241m.\u001b[39msum(\u001b[38;5;241m1\u001b[39m) \u001b[38;5;241m*\u001b[39m \u001b[38;5;28mself\u001b[39m\u001b[38;5;241m.\u001b[39mdiscret_step \u001b[38;5;241m-\u001b[39m \u001b[38;5;241m2\u001b[39m \u001b[38;5;241m*\u001b[39m (intensity\u001b[38;5;241m*\u001b[39m\u001b[38;5;28mself\u001b[39m\u001b[38;5;241m.\u001b[39mevents_loc_grid_bool)\u001b[38;5;241m.\u001b[39msum(\u001b[38;5;241m1\u001b[39m))\u001b[38;5;241m/\u001b[39m\u001b[38;5;28mself\u001b[39m\u001b[38;5;241m.\u001b[39mend_time)\u001b[38;5;241m.\u001b[39msum()\n",
      "\u001b[0;31mAttributeError\u001b[0m: 'HawkesDiscretL2' object has no attribute 'events_loc_grid'"
     ]
    }
   ],
   "source": [
    "solver.kernel_model.eval(torch.linspace(0,1, 11)[:-1])\n",
    "#solver.lossl2()"
   ]
  },
  {
   "cell_type": "code",
   "execution_count": 3,
   "id": "1163e72f",
   "metadata": {},
   "outputs": [
    {
     "data": {
      "text/plain": [
       "RMSprop (\n",
       "Parameter Group 0\n",
       "    alpha: 0.99\n",
       "    centered: False\n",
       "    eps: 1e-08\n",
       "    lr: 0.001\n",
       "    momentum: 0\n",
       "    weight_decay: 0\n",
       ")"
      ]
     },
     "execution_count": 3,
     "metadata": {},
     "output_type": "execute_result"
    }
   ],
   "source": [
    "solver.opt"
   ]
  },
  {
   "cell_type": "code",
   "execution_count": 18,
   "id": "dea418e8",
   "metadata": {},
   "outputs": [],
   "source": [
    "a = torch.tensor([[1,1],[2,3]])"
   ]
  },
  {
   "cell_type": "code",
   "execution_count": 4,
   "id": "d5008b28",
   "metadata": {},
   "outputs": [],
   "source": [
    "d1 = torch.tensor([0., 0., 1., 0., 0.])\n",
    "d2 = torch.tensor([0., 0., 0., 0., 1.])"
   ]
  },
  {
   "cell_type": "code",
   "execution_count": null,
   "id": "5834e398",
   "metadata": {},
   "outputs": [],
   "source": [
    "torch.conv_transpose1d(\n",
    "                    events_bool[i].view(1, self.size_grid),\n",
    "                    kernel_values_adj[:, i].view(1, self.dim, self.size_discret))[:, :-self.size_discret+1]"
   ]
  },
  {
   "cell_type": "code",
   "execution_count": 8,
   "id": "41e5212d",
   "metadata": {},
   "outputs": [],
   "source": [
    "C = torch.conv_transpose1d(d1[None], d2[None, None])"
   ]
  },
  {
   "cell_type": "code",
   "execution_count": 11,
   "id": "7ea0e548",
   "metadata": {},
   "outputs": [
    {
     "data": {
      "text/plain": [
       "tensor([[0., 0., 0., 0., 0., 0., 1., 0., 0.]])"
      ]
     },
     "execution_count": 11,
     "metadata": {},
     "output_type": "execute_result"
    }
   ],
   "source": [
    "C"
   ]
  }
 ],
 "metadata": {
  "kernelspec": {
   "display_name": "Python 3 (ipykernel)",
   "language": "python",
   "name": "python3"
  },
  "language_info": {
   "codemirror_mode": {
    "name": "ipython",
    "version": 3
   },
   "file_extension": ".py",
   "mimetype": "text/x-python",
   "name": "python",
   "nbconvert_exporter": "python",
   "pygments_lexer": "ipython3",
   "version": "3.9.12"
  }
 },
 "nbformat": 4,
 "nbformat_minor": 5
}

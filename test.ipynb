{
 "cells": [
  {
   "cell_type": "code",
   "execution_count": 1,
   "id": "273e53e8",
   "metadata": {},
   "outputs": [],
   "source": [
    "from hawkes_discret.kernels import KernelExpDiscret\n",
    "from hawkes_discret.hawkes_discret_l2 import HawkesDiscretL2\n",
    "from hawkes_discret.utils.compute_constants_np import get_zG, \\\n",
    "get_zN, get_ztzG, get_zLG, get_zLN, get_zLtzG\n",
    "from hawkes_discret.utils.validation import check_random_state\n",
    "import torch\n",
    "import numpy as np\n",
    "import matplotlib.pyplot as plt\n",
    "import time\n",
    "from hawkes_discret.loss_and_gradient import l2loss_conv, \\\n",
    "term1, term2, term3, term4, l2loss_precomputation, const_loss, \\\n",
    "get_grad_alpha"
   ]
  },
  {
   "cell_type": "code",
   "execution_count": 17,
   "id": "019e686e",
   "metadata": {},
   "outputs": [],
   "source": [
    "def expo2(decay, discretization):\n",
    "    q1 = decay.unsqueeze(2)* torch.exp(-decay.unsqueeze(2) * discretization)\n",
    "    return q1"
   ]
  },
  {
   "cell_type": "code",
   "execution_count": 36,
   "id": "7551428d",
   "metadata": {},
   "outputs": [
    {
     "data": {
      "text/plain": [
       "tensor([[[ 1.0000,  0.9027,  0.8126,  0.7292,  0.6520,  0.5807,  0.5148,\n",
       "           0.4539,  0.3979,  0.3462,  0.2987,  0.2550,  0.2149,  0.1781,\n",
       "           0.1444,  0.1136,  0.0855,  0.0599,  0.0366,  0.0155, -0.0037,\n",
       "          -0.0210, -0.0366, -0.0506, -0.0631, -0.0743, -0.0842, -0.0930,\n",
       "          -0.1007, -0.1074, -0.1132, -0.1182, -0.1224, -0.1259, -0.1288,\n",
       "          -0.1311, -0.1328, -0.1341, -0.1349, -0.1353, -0.1353, -0.1350,\n",
       "          -0.1344, -0.1336, -0.1324, -0.1311, -0.1296, -0.1279, -0.1261,\n",
       "          -0.1242, -0.1221, -0.1199, -0.1177, -0.1153, -0.1130, -0.1105,\n",
       "          -0.1081, -0.1056, -0.1031, -0.1006, -0.0981, -0.0956, -0.0931,\n",
       "          -0.0906, -0.0881, -0.0857, -0.0832, -0.0809, -0.0785, -0.0762,\n",
       "          -0.0739, -0.0717, -0.0695, -0.0673, -0.0652, -0.0631, -0.0611,\n",
       "          -0.0591, -0.0572, -0.0553, -0.0535, -0.0517, -0.0499, -0.0483,\n",
       "          -0.0466, -0.0450, -0.0434, -0.0419, -0.0405, -0.0390, -0.0376,\n",
       "          -0.0363, -0.0350, -0.0337, -0.0325, -0.0313, -0.0302, -0.0291,\n",
       "          -0.0280, -0.0270]]])"
      ]
     },
     "execution_count": 36,
     "metadata": {},
     "output_type": "execute_result"
    }
   ],
   "source": [
    "(1-(discretization*torch.tensor([[5.]]).unsqueeze(2)))* torch.exp(-torch.tensor([[5.]]).unsqueeze(2) * discretization)"
   ]
  },
  {
   "cell_type": "code",
   "execution_count": 33,
   "id": "eeb1d6b6",
   "metadata": {},
   "outputs": [
    {
     "data": {
      "text/plain": [
       "tensor([[[ 1.0000,  0.9495,  0.8990,  0.8485,  0.7980,  0.7475,  0.6970,\n",
       "           0.6465,  0.5960,  0.5455,  0.4949,  0.4444,  0.3939,  0.3434,\n",
       "           0.2929,  0.2424,  0.1919,  0.1414,  0.0909,  0.0404, -0.0101,\n",
       "          -0.0606, -0.1111, -0.1616, -0.2121, -0.2626, -0.3131, -0.3636,\n",
       "          -0.4141, -0.4646, -0.5152, -0.5657, -0.6162, -0.6667, -0.7172,\n",
       "          -0.7677, -0.8182, -0.8687, -0.9192, -0.9697, -1.0202, -1.0707,\n",
       "          -1.1212, -1.1717, -1.2222, -1.2727, -1.3232, -1.3737, -1.4242,\n",
       "          -1.4747, -1.5253, -1.5758, -1.6263, -1.6768, -1.7273, -1.7778,\n",
       "          -1.8283, -1.8788, -1.9293, -1.9798, -2.0303, -2.0808, -2.1313,\n",
       "          -2.1818, -2.2323, -2.2828, -2.3333, -2.3838, -2.4343, -2.4848,\n",
       "          -2.5354, -2.5859, -2.6364, -2.6869, -2.7374, -2.7879, -2.8384,\n",
       "          -2.8889, -2.9394, -2.9899, -3.0404, -3.0909, -3.1414, -3.1919,\n",
       "          -3.2424, -3.2929, -3.3434, -3.3939, -3.4444, -3.4949, -3.5455,\n",
       "          -3.5960, -3.6465, -3.6970, -3.7475, -3.7980, -3.8485, -3.8990,\n",
       "          -3.9495, -4.0000]]])"
      ]
     },
     "execution_count": 33,
     "metadata": {},
     "output_type": "execute_result"
    }
   ],
   "source": [
    "(1-discretization*torch.tensor([[5.]]).unsqueeze(2))"
   ]
  },
  {
   "cell_type": "code",
   "execution_count": 49,
   "id": "0cbd82d1",
   "metadata": {},
   "outputs": [],
   "source": [
    "def expo(decay, discretization):\n",
    "    \"\"\"Return kernel evaluate on the discretisation grid: time\n",
    "    kernel_values:  tensor de taille (dim x dim x len(time))\"\"\"\n",
    "\n",
    "    kernel_values = decay.unsqueeze(\n",
    "        2) * torch.exp(-decay.unsqueeze(2) * discretization)\n",
    "    mask_kernel = (discretization <= 0) | (discretization > 1)\n",
    "    kernel_values += 0\n",
    "    kernel_values[:, :, mask_kernel] = 0.\n",
    "    kernel_values /= (kernel_values.sum(2)[:, :, None] * 0.01)\n",
    "\n",
    "    return kernel_values"
   ]
  },
  {
   "cell_type": "code",
   "execution_count": 43,
   "id": "2da431c7",
   "metadata": {},
   "outputs": [],
   "source": [
    "decay_1 = torch.tensor([[0.8]])\n",
    "decay_2 = torch.tensor([[1.]])\n",
    "decay_3 = torch.tensor([[1.2]])\n",
    "decay_4 = torch.tensor([[1.5]])\n",
    "decay_5 = torch.tensor([[2.]])\n",
    "decay_6 = torch.tensor([[3.]])\n",
    "decay_7 = torch.tensor([[4.]])\n",
    "decay_8 = torch.tensor([[5.]])\n",
    "liste = [decay_1, decay_2, decay_3, decay_4, decay_5, decay_6, decay_7, decay_8]"
   ]
  },
  {
   "cell_type": "code",
   "execution_count": 50,
   "id": "4caeca5b",
   "metadata": {},
   "outputs": [],
   "source": [
    "discretization = torch.linspace(0,1,100)\n",
    "res = torch.zeros(len(liste), 100)\n",
    "for i in range(len(liste)):\n",
    "    res[i] = expo(liste[i], discretization)"
   ]
  },
  {
   "cell_type": "code",
   "execution_count": 18,
   "id": "4b669c8a",
   "metadata": {},
   "outputs": [],
   "source": [
    "discretization = torch.linspace(0,1,100)\n",
    "res2 = torch.zeros(len(liste), 100)\n",
    "for i in range(len(liste)):\n",
    "    res2[i] = expo2(liste[i], discretization)"
   ]
  },
  {
   "cell_type": "code",
   "execution_count": 19,
   "id": "d2422e5f",
   "metadata": {},
   "outputs": [
    {
     "data": {
      "text/plain": [
       "[<matplotlib.lines.Line2D at 0x7fa31c145e20>]"
      ]
     },
     "execution_count": 19,
     "metadata": {},
     "output_type": "execute_result"
    },
    {
     "data": {
      "image/png": "[encoded data removed]",
      "text/plain": [
       "<Figure size 432x288 with 1 Axes>"
      ]
     },
     "metadata": {
      "needs_background": "light"
     },
     "output_type": "display_data"
    }
   ],
   "source": [
    "lam = [0.8, 1, 1.2, 1.5, 2, 3, 4, 5]\n",
    "plt.plot(lam,res2[:, 1], marker='^')\n",
    "plt.plot(lam, res2[:, 10], marker='^')\n",
    "plt.plot(lam, res2[:, 15], marker='^')\n",
    "plt.plot(lam, res2[:, 80], marker='^')\n",
    "plt.plot(lam, res2[:, 99], marker='^')\n",
    "plt.plot(lam, res2[:, 50], marker='^')\n",
    "plt.plot(lam, res2[:, 30], marker='^')\n",
    "plt.plot(lam, res2[:, 60], marker='^')"
   ]
  },
  {
   "cell_type": "code",
   "execution_count": 51,
   "id": "de287200",
   "metadata": {},
   "outputs": [
    {
     "data": {
      "text/plain": [
       "[<matplotlib.lines.Line2D at 0x7fa328a2acd0>]"
      ]
     },
     "execution_count": 51,
     "metadata": {},
     "output_type": "execute_result"
    },
    {
     "data": {
      "image/png": "[encoded data removed]",
      "text/plain": [
       "<Figure size 432x288 with 1 Axes>"
      ]
     },
     "metadata": {
      "needs_background": "light"
     },
     "output_type": "display_data"
    }
   ],
   "source": [
    "lam = [0.8, 1, 1.2, 1.5, 2, 3, 4, 5]\n",
    "plt.plot(lam,res[:, 1], marker='^')\n",
    "plt.plot(lam, res[:, 10], marker='^')\n",
    "plt.plot(lam, res[:, 15], marker='^')\n",
    "plt.plot(lam, res[:, 80], marker='^')\n",
    "plt.plot(lam, res[:, 99], marker='^')\n",
    "plt.plot(lam, res[:, 50], marker='^')\n",
    "plt.plot(lam, res[:, 30], marker='^')\n",
    "plt.plot(lam, res[:, 60], marker='^')"
   ]
  },
  {
   "cell_type": "code",
   "execution_count": 20,
   "id": "ff7fb84e",
   "metadata": {},
   "outputs": [
    {
     "data": {
      "text/plain": [
       "tensor([3.0000e+00, 2.8811e+00, 2.7665e+00, 2.6563e+00, 2.5502e+00, 2.4480e+00,\n",
       "        2.3497e+00, 2.2550e+00, 2.1639e+00, 2.0763e+00, 1.9919e+00, 1.9108e+00,\n",
       "        1.8327e+00, 1.7575e+00, 1.6852e+00, 1.6157e+00, 1.5488e+00, 1.4845e+00,\n",
       "        1.4226e+00, 1.3631e+00, 1.3059e+00, 1.2509e+00, 1.1980e+00, 1.1471e+00,\n",
       "        1.0982e+00, 1.0513e+00, 1.0061e+00, 9.6269e-01, 9.2098e-01, 8.8091e-01,\n",
       "        8.4241e-01, 8.0542e-01, 7.6989e-01, 7.3576e-01, 7.0298e-01, 6.7151e-01,\n",
       "        6.4128e-01, 6.1227e-01, 5.8441e-01, 5.5767e-01, 5.3201e-01, 5.0738e-01,\n",
       "        4.8375e-01, 4.6108e-01, 4.3933e-01, 4.1847e-01, 3.9846e-01, 3.7927e-01,\n",
       "        3.6087e-01, 3.4324e-01, 3.2633e-01, 3.1013e-01, 2.9461e-01, 2.7973e-01,\n",
       "        2.6548e-01, 2.5183e-01, 2.3876e-01, 2.2625e-01, 2.1427e-01, 2.0281e-01,\n",
       "        1.9183e-01, 1.8134e-01, 1.7129e-01, 1.6169e-01, 1.5251e-01, 1.4373e-01,\n",
       "        1.3534e-01, 1.2732e-01, 1.1966e-01, 1.1234e-01, 1.0535e-01, 9.8685e-02,\n",
       "        9.2321e-02, 8.6248e-02, 8.0455e-02, 7.4932e-02, 6.9666e-02, 6.4648e-02,\n",
       "        5.9867e-02, 5.5315e-02, 5.0981e-02, 4.6856e-02, 4.2932e-02, 3.9200e-02,\n",
       "        3.5653e-02, 3.2283e-02, 2.9083e-02, 2.6044e-02, 2.3161e-02, 2.0427e-02,\n",
       "        1.7836e-02, 1.5381e-02, 1.3056e-02, 1.0857e-02, 8.7776e-03, 6.8125e-03,\n",
       "        4.9568e-03, 3.2059e-03, 1.5551e-03, 0.0000e+00])"
      ]
     },
     "execution_count": 20,
     "metadata": {},
     "output_type": "execute_result"
    }
   ],
   "source": [
    "(decay.unsqueeze(2)-discretization*decay.unsqueeze(2)) "
   ]
  },
  {
   "cell_type": "code",
   "execution_count": 3,
   "id": "88e821df",
   "metadata": {},
   "outputs": [
    {
     "name": "stdout",
     "output_type": "stream",
     "text": [
      "tensor(4.7889)\n",
      "tensor(318.1396)\n"
     ]
    }
   ],
   "source": [
    "dim = 2\n",
    "baseline = torch.tensor([1., 2.])\n",
    "decay = torch.tensor([[2, 3], [1., 1]])\n",
    "adjacency = torch.tensor([[1, 0.3], [0.1, 0.2]])\n",
    "#baseline = torch.ones(dim)\n",
    "#decay = torch.ones(dim,dim)\n",
    "#adjacency = torch.ones(dim,dim)\n",
    "upper = 1\n",
    "L = 100\n",
    "T= 10000\n",
    "G = T*L\n",
    "Delta = 1/L\n",
    "discret = torch.linspace(0, 1, L)\n",
    "\n",
    "d1 = torch.zeros(L*T)\n",
    "d2 = torch.zeros(L*T)\n",
    "d1[::5] = 1.\n",
    "d1[::2] = 2.\n",
    "kappa=1\n",
    "d2[::3] = kappa\n",
    "events_torch = [d1, d2]\n",
    "events_np = [d1.numpy(), d2.numpy()]\n",
    "\n",
    "#### True intensity\n",
    "model = KernelExpDiscret(decay,  upper, 0.01)\n",
    "kernel_values_2 = model.eval(discret)\n",
    "intens = model.intensity_eval(baseline, adjacency, events_torch)\n",
    "\n",
    "true_term1 = ((intens**2).sum(1) * (Delta/2)).sum() / T\n",
    "\n",
    "print(true_term1.sum())\n",
    "\n",
    "mask1 = torch.zeros(T*L, dtype=torch.int64)\n",
    "mask2 = torch.zeros(T*L, dtype=torch.int64)\n",
    "mask1[::5] = 1\n",
    "mask1[::2] = 2\n",
    "mask2[::3] = kappa\n",
    "mask = torch.stack((mask1, mask2))\n",
    "\n",
    "true_term2 = ((intens*mask).sum(1) / T).sum()\n",
    "loss = true_term2+true_term1\n",
    "print(loss)"
   ]
  },
  {
   "cell_type": "code",
   "execution_count": 4,
   "id": "e0c713a8",
   "metadata": {},
   "outputs": [
    {
     "data": {
      "text/plain": [
       "tensor(313.3507)"
      ]
     },
     "execution_count": 4,
     "metadata": {},
     "output_type": "execute_result"
    }
   ],
   "source": [
    "true_term2"
   ]
  },
  {
   "cell_type": "code",
   "execution_count": 5,
   "id": "9326a1e2",
   "metadata": {},
   "outputs": [],
   "source": [
    "def kernel_eval(decay, upper, grid):\n",
    "    \"\"\"Return kernel evaluate on the discretisation grid: time\n",
    "    kernel_values:  tensor de taille (dim x dim x len(time))\"\"\"\n",
    "\n",
    "    kernel_values = decay.unsqueeze(2) * torch.exp(-decay.unsqueeze(2)*grid)\n",
    "    mask_kernel = (grid <= 0) | (grid > upper)\n",
    "    kernel_values[:, :, mask_kernel] = 0.\n",
    "    kernel_values /= kernel_values.sum(2)[:, :, None] # intéret de * dt ?\n",
    "\n",
    "    return kernel_values"
   ]
  },
  {
   "cell_type": "code",
   "execution_count": 6,
   "id": "c99fe4c0",
   "metadata": {},
   "outputs": [],
   "source": [
    "def const(Delta, T):\n",
    "    return (0.5 * Delta)/ T\n",
    "\n",
    "def term1_(G, Delta, T, baseline):\n",
    "    return G * const(Delta, T) * (np.linalg.norm(baseline, 2)**2)\n",
    "\n",
    "#term2 valid\n",
    "def term2_(baseline, kernel, events, L):   \n",
    "    res = 0\n",
    "    const1 = get_zG(np.vstack(events), L)\n",
    "    for i in range(dim):\n",
    "        temp = 0\n",
    "        for j in range(dim):\n",
    "            temp += adjacency[i, j] * const1[j]@kernel[i, j]\n",
    "            \n",
    "        res += baseline[i] * temp\n",
    "    return 2 * const(Delta, T) * res.item()\n"
   ]
  },
  {
   "cell_type": "code",
   "execution_count": 7,
   "id": "802b5381",
   "metadata": {},
   "outputs": [],
   "source": [
    "def term3_(kernel, adjacency, events, L):\n",
    "    \n",
    "    const2_ = get_ztzG(np.vstack(events), L)\n",
    "\n",
    "    res = 0\n",
    "    for i in range(dim):\n",
    "        for k in range(dim):\n",
    "            for j in range(dim):\n",
    "                temp = adjacency[i, j] * adjacency[i, k]\n",
    "                temp2 = 0\n",
    "                for tau in range(L):\n",
    "                    for tau_p in range(L):\n",
    "                        temp2 += (kernel[i, j, tau] \n",
    "                         * kernel[i, k, tau_p]) * const2_[j, k, tau, tau_p]\n",
    "                       \n",
    "                res += temp * temp2\n",
    "    return  const(Delta, T) * res.item()"
   ]
  },
  {
   "cell_type": "code",
   "execution_count": 8,
   "id": "684108ea",
   "metadata": {},
   "outputs": [],
   "source": [
    "def term4_(kernel, adjacency, events, L):\n",
    "    \n",
    "    const1p = get_zN(np.vstack(events), L)\n",
    "    res = 0\n",
    "    for i in range(dim):\n",
    "        res += baseline[i] * events[i].sum()\n",
    "        for j in range(dim):\n",
    "            alphaij = adjacency[i,j]\n",
    "            temp = const1p[i, j]@kernel[i, j]\n",
    "            res += temp * alphaij\n",
    "\n",
    "    return (res / T).item()"
   ]
  },
  {
   "cell_type": "code",
   "execution_count": 9,
   "id": "c2c32f2b",
   "metadata": {},
   "outputs": [
    {
     "name": "stdout",
     "output_type": "stream",
     "text": [
      "term 1 is: 2.50000007341103\n",
      "term 2 is: 1.553278601026053\n",
      "term 3 is: 0.7356644375\n",
      "term 4 is: 313.3507080078125\n",
      "computation time in 2.260101079940796\n"
     ]
    }
   ],
   "source": [
    "kernel = kernel_eval(decay, upper, discret).numpy()\n",
    "start = time.time()\n",
    "term_1_ = term1_(G, Delta, T, baseline)\n",
    "print('term 1 is:', term_1_)\n",
    "#zG = get_zG(np.vstack(events_np), L)\n",
    "term_2_ = term2_(baseline, kernel, events_np, L)\n",
    "print('term 2 is:', term_2_)\n",
    "#ztzG = get_ztzG(np.vstack(events_np), L)\n",
    "term_3_ = term3_(kernel, adjacency, events_np, L)\n",
    "print('term 3 is:', term_3_)\n",
    "#zN = get_zN(np.vstack(events_np), L)\n",
    "n_events = torch.stack(events_torch).sum(1)\n",
    "term_4_ = term4_(kernel, adjacency, events_np, L)\n",
    "print('term 4 is:', term_4_)\n",
    "print('computation time in', time.time() - start)"
   ]
  },
  {
   "cell_type": "code",
   "execution_count": 10,
   "id": "d9aa4ea4",
   "metadata": {},
   "outputs": [
    {
     "data": {
      "text/plain": [
       "-308.5617648958754"
      ]
     },
     "execution_count": 10,
     "metadata": {},
     "output_type": "execute_result"
    }
   ],
   "source": [
    "term_1_ + term_2_ + term_3_ - term_4_"
   ]
  },
  {
   "cell_type": "code",
   "execution_count": 11,
   "id": "9435614b",
   "metadata": {},
   "outputs": [
    {
     "name": "stdout",
     "output_type": "stream",
     "text": [
      "term 1 is: 2.5\n",
      "term 2 is: 1553278.5\n",
      "term 3 is: 1471328.875\n",
      "term 4 is: 3133507.0\n",
      "computation time in 2.120910167694092\n"
     ]
    }
   ],
   "source": [
    "kernel = kernel_eval(decay, upper, discret).numpy()\n",
    "start = time.time()\n",
    "term_1 = term1(baseline)\n",
    "print('term 1 is:', term_1)\n",
    "zG = get_zG(np.vstack(events_np), L)\n",
    "term_2 = term2(zG, baseline, adjacency, kernel)\n",
    "print('term 2 is:', term_2)\n",
    "ztzG = get_ztzG(np.vstack(events_np), L)\n",
    "term_3 = term3(ztzG, kernel, adjacency)\n",
    "print('term 3 is:', term_3)\n",
    "zN = get_zN(np.vstack(events_np), L)\n",
    "n_events = torch.stack(events_torch).sum(1)\n",
    "term_4 = term4(zN, kernel, baseline, adjacency, n_events)\n",
    "print('term 4 is:', term_4)\n",
    "print('computation time in', time.time() - start)"
   ]
  },
  {
   "cell_type": "code",
   "execution_count": 12,
   "id": "4750b58d",
   "metadata": {},
   "outputs": [
    {
     "name": "stdout",
     "output_type": "stream",
     "text": [
      "2.5\n",
      "1.5532785\n",
      "0.7356644375\n",
      "313.35069999999996\n"
     ]
    },
    {
     "data": {
      "text/plain": [
       "-308.56175706249996"
      ]
     },
     "execution_count": 12,
     "metadata": {},
     "output_type": "execute_result"
    }
   ],
   "source": [
    "l2loss_precomputation(zG, zN, ztzG, kernel,\n",
    "                      baseline, adjacency,\n",
    "                      n_events, 0.01,\n",
    "                      T)"
   ]
  },
  {
   "cell_type": "code",
   "execution_count": 2,
   "id": "c2557ad9",
   "metadata": {},
   "outputs": [],
   "source": [
    "end_time = 10000\n",
    "n_dim = 2\n",
    "delta = 0.01\n",
    "n_discrete = 100\n",
    "random_state = None\n",
    "\n",
    "rng = check_random_state(random_state)\n",
    "\n",
    "d1 = torch.zeros(n_discrete*end_time, dtype=torch.float64)\n",
    "d2 = torch.zeros(n_discrete*end_time, dtype=torch.float64)\n",
    "idx1 = rng.choice(np.arange(n_discrete*end_time), int(end_time/10))\n",
    "idx2 = rng.choice(np.arange(n_discrete*end_time), int(end_time/7))\n",
    "d1[idx1] = 1.\n",
    "d2[idx2] = 2.\n",
    "d1[idx2] = 3.\n",
    "events_torch = [d1, d2]\n",
    "events = torch.stack(events_torch)\n",
    "discrete = torch.linspace(0, 1, n_discrete)\n",
    "baseline = torch.tensor(rng.randn(n_dim))\n",
    "adjacency = torch.tensor(rng.randn(n_dim, n_dim))\n",
    "decay = torch.tensor(rng.randn(n_dim, n_dim))\n",
    "n_events = events.sum(1)\n",
    "\n",
    "\n",
    "\n",
    "model = KernelExpDiscret(decay, 1, delta)\n",
    "kernel = model.eval(discrete)\n",
    "intens = model.intensity_eval(baseline, adjacency, events)\n",
    "right_term_conv = (intens*events).sum() / end_time\n",
    "\n",
    "\n",
    "zG = torch.tensor(get_zG(events.numpy(), n_discrete))\n",
    "zN = torch.tensor(get_zN(events.numpy(), n_discrete))\n",
    "ztzG = torch.tensor(get_ztzG(events.numpy(), n_discrete))\n",
    "\n",
    "\n",
    "grad_alpha = get_grad_alpha(zG, zN, ztzG, baseline, adjacency,\n",
    "               kernel, delta, end_time)\n"
   ]
  },
  {
   "cell_type": "code",
   "execution_count": 12,
   "id": "bae90e92",
   "metadata": {},
   "outputs": [],
   "source": [
    "adjacency = torch.tensor(rng.randn(n_dim, n_dim)).requires_grad_(True)\n",
    "loss = l2loss_precomputation(zG, zN, ztzG, \n",
    "                      baseline, adjacency, kernel,\n",
    "                      n_events, 0.01,\n",
    "                      end_time)"
   ]
  },
  {
   "cell_type": "code",
   "execution_count": 2,
   "id": "ddc234bb",
   "metadata": {},
   "outputs": [],
   "source": [
    "kernel_model = 'KernelExpDiscret'\n",
    "baseline = torch.tensor([1.1, 1.3])\n",
    "kernel_params = torch.tensor([[2, 3], [8, 4]])\n",
    "adjacency = torch.tensor([[1, 0.3], [0.1, 0.4]])\n",
    "end_time = 5\n",
    "discret_step = 0.1\n",
    "events = [torch.tensor([0.7653, 0.76187, 2.323, 2.1]),torch.tensor([3.653, 2.76187, 4.323, 3.1]) ]\n",
    "solver = HawkesDiscretL2(kernel_model, kernel_params, \n",
    "                 baseline,  adjacency, discret_step,\n",
    "                 solver='RMSprop', step_size=1e-3,\n",
    "                 max_iter=100, log=False,\n",
    "                 random_state=None, device='cpu')"
   ]
  },
  {
   "cell_type": "code",
   "execution_count": 3,
   "id": "7c58d2ab",
   "metadata": {},
   "outputs": [
    {
     "name": "stdout",
     "output_type": "stream",
     "text": [
      "torch.Size([2, 100])\n",
      "tensor([1.1000, 1.3000], requires_grad=True)\n"
     ]
    },
    {
     "ename": "RuntimeError",
     "evalue": "element 0 of tensors does not require grad and does not have a grad_fn",
     "output_type": "error",
     "traceback": [
      "\u001b[0;31m---------------------------------------------------------------------------\u001b[0m",
      "\u001b[0;31mRuntimeError\u001b[0m                              Traceback (most recent call last)",
      "Input \u001b[0;32mIn [3]\u001b[0m, in \u001b[0;36m<cell line: 1>\u001b[0;34m()\u001b[0m\n\u001b[0;32m----> 1\u001b[0m \u001b[43msolver\u001b[49m\u001b[38;5;241;43m.\u001b[39;49m\u001b[43mtoy\u001b[49m\u001b[43m(\u001b[49m\u001b[43mtorch\u001b[49m\u001b[38;5;241;43m.\u001b[39;49m\u001b[43mstack\u001b[49m\u001b[43m(\u001b[49m\u001b[43mevents\u001b[49m\u001b[43m)\u001b[49m\u001b[43m,\u001b[49m\u001b[43m \u001b[49m\u001b[38;5;241;43m10\u001b[39;49m\u001b[43m)\u001b[49m\n",
      "File \u001b[0;32m~/Desktop/PostDoc/hawkes_discret/hawkes_discret/hawkes_discret_l2.py:72\u001b[0m, in \u001b[0;36mHawkesDiscretL2.toy\u001b[0;34m(self, events, end_time)\u001b[0m\n\u001b[1;32m     67\u001b[0m kernel_values \u001b[38;5;241m=\u001b[39m \u001b[38;5;28mself\u001b[39m\u001b[38;5;241m.\u001b[39mkernel_model\u001b[38;5;241m.\u001b[39meval(torch\u001b[38;5;241m.\u001b[39mlinspace(\u001b[38;5;241m0\u001b[39m, \u001b[38;5;241m1\u001b[39m, n_discrete, dtype\u001b[38;5;241m=\u001b[39mtorch\u001b[38;5;241m.\u001b[39mfloat64))\n\u001b[1;32m     68\u001b[0m loss \u001b[38;5;241m=\u001b[39m l2loss_precomputation(zG, zN, ztzG, \n\u001b[1;32m     69\u001b[0m               \u001b[38;5;28mself\u001b[39m\u001b[38;5;241m.\u001b[39mbaseline, \u001b[38;5;28mself\u001b[39m\u001b[38;5;241m.\u001b[39madjacency, kernel_values,\n\u001b[1;32m     70\u001b[0m               \u001b[38;5;28mself\u001b[39m\u001b[38;5;241m.\u001b[39mevents_grid\u001b[38;5;241m.\u001b[39msum(\u001b[38;5;241m1\u001b[39m), \u001b[38;5;241m0.01\u001b[39m,\n\u001b[1;32m     71\u001b[0m               end_time)\n\u001b[0;32m---> 72\u001b[0m \u001b[43mloss\u001b[49m\u001b[38;5;241;43m.\u001b[39;49m\u001b[43mbackward\u001b[49m\u001b[43m(\u001b[49m\u001b[43m)\u001b[49m\n\u001b[1;32m     73\u001b[0m \u001b[38;5;28;01mreturn\u001b[39;00m loss\n",
      "File \u001b[0;32m/opt/anaconda3/lib/python3.9/site-packages/torch/_tensor.py:363\u001b[0m, in \u001b[0;36mTensor.backward\u001b[0;34m(self, gradient, retain_graph, create_graph, inputs)\u001b[0m\n\u001b[1;32m    354\u001b[0m \u001b[38;5;28;01mif\u001b[39;00m has_torch_function_unary(\u001b[38;5;28mself\u001b[39m):\n\u001b[1;32m    355\u001b[0m     \u001b[38;5;28;01mreturn\u001b[39;00m handle_torch_function(\n\u001b[1;32m    356\u001b[0m         Tensor\u001b[38;5;241m.\u001b[39mbackward,\n\u001b[1;32m    357\u001b[0m         (\u001b[38;5;28mself\u001b[39m,),\n\u001b[0;32m   (...)\u001b[0m\n\u001b[1;32m    361\u001b[0m         create_graph\u001b[38;5;241m=\u001b[39mcreate_graph,\n\u001b[1;32m    362\u001b[0m         inputs\u001b[38;5;241m=\u001b[39minputs)\n\u001b[0;32m--> 363\u001b[0m \u001b[43mtorch\u001b[49m\u001b[38;5;241;43m.\u001b[39;49m\u001b[43mautograd\u001b[49m\u001b[38;5;241;43m.\u001b[39;49m\u001b[43mbackward\u001b[49m\u001b[43m(\u001b[49m\u001b[38;5;28;43mself\u001b[39;49m\u001b[43m,\u001b[49m\u001b[43m \u001b[49m\u001b[43mgradient\u001b[49m\u001b[43m,\u001b[49m\u001b[43m \u001b[49m\u001b[43mretain_graph\u001b[49m\u001b[43m,\u001b[49m\u001b[43m \u001b[49m\u001b[43mcreate_graph\u001b[49m\u001b[43m,\u001b[49m\u001b[43m \u001b[49m\u001b[43minputs\u001b[49m\u001b[38;5;241;43m=\u001b[39;49m\u001b[43minputs\u001b[49m\u001b[43m)\u001b[49m\n",
      "File \u001b[0;32m/opt/anaconda3/lib/python3.9/site-packages/torch/autograd/__init__.py:173\u001b[0m, in \u001b[0;36mbackward\u001b[0;34m(tensors, grad_tensors, retain_graph, create_graph, grad_variables, inputs)\u001b[0m\n\u001b[1;32m    168\u001b[0m     retain_graph \u001b[38;5;241m=\u001b[39m create_graph\n\u001b[1;32m    170\u001b[0m \u001b[38;5;66;03m# The reason we repeat same the comment below is that\u001b[39;00m\n\u001b[1;32m    171\u001b[0m \u001b[38;5;66;03m# some Python versions print out the first line of a multi-line function\u001b[39;00m\n\u001b[1;32m    172\u001b[0m \u001b[38;5;66;03m# calls in the traceback and some print out the last line\u001b[39;00m\n\u001b[0;32m--> 173\u001b[0m \u001b[43mVariable\u001b[49m\u001b[38;5;241;43m.\u001b[39;49m\u001b[43m_execution_engine\u001b[49m\u001b[38;5;241;43m.\u001b[39;49m\u001b[43mrun_backward\u001b[49m\u001b[43m(\u001b[49m\u001b[43m  \u001b[49m\u001b[38;5;66;43;03m# Calls into the C++ engine to run the backward pass\u001b[39;49;00m\n\u001b[1;32m    174\u001b[0m \u001b[43m    \u001b[49m\u001b[43mtensors\u001b[49m\u001b[43m,\u001b[49m\u001b[43m \u001b[49m\u001b[43mgrad_tensors_\u001b[49m\u001b[43m,\u001b[49m\u001b[43m \u001b[49m\u001b[43mretain_graph\u001b[49m\u001b[43m,\u001b[49m\u001b[43m \u001b[49m\u001b[43mcreate_graph\u001b[49m\u001b[43m,\u001b[49m\u001b[43m \u001b[49m\u001b[43minputs\u001b[49m\u001b[43m,\u001b[49m\n\u001b[1;32m    175\u001b[0m \u001b[43m    \u001b[49m\u001b[43mallow_unreachable\u001b[49m\u001b[38;5;241;43m=\u001b[39;49m\u001b[38;5;28;43;01mTrue\u001b[39;49;00m\u001b[43m,\u001b[49m\u001b[43m \u001b[49m\u001b[43maccumulate_grad\u001b[49m\u001b[38;5;241;43m=\u001b[39;49m\u001b[38;5;28;43;01mTrue\u001b[39;49;00m\u001b[43m)\u001b[49m\n",
      "\u001b[0;31mRuntimeError\u001b[0m: element 0 of tensors does not require grad and does not have a grad_fn"
     ]
    }
   ],
   "source": [
    "solver.toy(torch.stack(events), 10)"
   ]
  },
  {
   "cell_type": "code",
   "execution_count": null,
   "id": "e96c8d85",
   "metadata": {},
   "outputs": [
    {
     "name": "stdout",
     "output_type": "stream",
     "text": [
      "> \u001b[0;32m/Users/guillaumestaerman/Desktop/PostDoc/hawkes_discret/hawkes_discret/loss_and_gradient.py\u001b[0m(92)\u001b[0;36mterm2\u001b[0;34m()\u001b[0m\n",
      "\u001b[0;32m     90 \u001b[0;31m        \u001b[0mtemp\u001b[0m \u001b[0;34m=\u001b[0m \u001b[0;36m0\u001b[0m\u001b[0;34m\u001b[0m\u001b[0;34m\u001b[0m\u001b[0m\n",
      "\u001b[0m\u001b[0;32m     91 \u001b[0;31m        \u001b[0;32mfor\u001b[0m \u001b[0mj\u001b[0m \u001b[0;32min\u001b[0m \u001b[0mrange\u001b[0m\u001b[0;34m(\u001b[0m\u001b[0mn_dim\u001b[0m\u001b[0;34m)\u001b[0m\u001b[0;34m:\u001b[0m\u001b[0;34m\u001b[0m\u001b[0;34m\u001b[0m\u001b[0m\n",
      "\u001b[0m\u001b[0;32m---> 92 \u001b[0;31m            \u001b[0mtemp\u001b[0m \u001b[0;34m+=\u001b[0m \u001b[0madjacency\u001b[0m\u001b[0;34m[\u001b[0m\u001b[0mi\u001b[0m\u001b[0;34m,\u001b[0m \u001b[0mj\u001b[0m\u001b[0;34m]\u001b[0m \u001b[0;34m*\u001b[0m \u001b[0;34m(\u001b[0m\u001b[0mzG\u001b[0m\u001b[0;34m[\u001b[0m\u001b[0mj\u001b[0m\u001b[0;34m]\u001b[0m \u001b[0;34m@\u001b[0m \u001b[0mkernel\u001b[0m\u001b[0;34m[\u001b[0m\u001b[0mi\u001b[0m\u001b[0;34m,\u001b[0m \u001b[0mj\u001b[0m\u001b[0;34m]\u001b[0m\u001b[0;34m)\u001b[0m\u001b[0;34m\u001b[0m\u001b[0;34m\u001b[0m\u001b[0m\n",
      "\u001b[0m\u001b[0;32m     93 \u001b[0;31m        \u001b[0mres\u001b[0m \u001b[0;34m+=\u001b[0m \u001b[0mbaseline\u001b[0m\u001b[0;34m[\u001b[0m\u001b[0mi\u001b[0m\u001b[0;34m]\u001b[0m \u001b[0;34m*\u001b[0m \u001b[0mtemp\u001b[0m\u001b[0;34m\u001b[0m\u001b[0;34m\u001b[0m\u001b[0m\n",
      "\u001b[0m\u001b[0;32m     94 \u001b[0;31m\u001b[0;34m\u001b[0m\u001b[0m\n",
      "\u001b[0m\n",
      "ipdb> zG.dtype\n",
      "torch.float64\n",
      "ipdb> kernel.dtype\n",
      "torch.float32\n"
     ]
    }
   ],
   "source": [
    "%debug"
   ]
  },
  {
   "cell_type": "code",
   "execution_count": 30,
   "id": "9afdf3c6",
   "metadata": {},
   "outputs": [
    {
     "ename": "TypeError",
     "evalue": "isclose(): argument 'input' (position 1) must be Tensor, not int",
     "output_type": "error",
     "traceback": [
      "\u001b[0;31m---------------------------------------------------------------------------\u001b[0m",
      "\u001b[0;31mTypeError\u001b[0m                                 Traceback (most recent call last)",
      "Input \u001b[0;32mIn [30]\u001b[0m, in \u001b[0;36m<cell line: 1>\u001b[0;34m()\u001b[0m\n\u001b[0;32m----> 1\u001b[0m \u001b[43mtorch\u001b[49m\u001b[38;5;241;43m.\u001b[39;49m\u001b[43misclose\u001b[49m\u001b[43m(\u001b[49m\u001b[38;5;241;43m2\u001b[39;49m\u001b[43m,\u001b[49m\u001b[38;5;241;43m3\u001b[39;49m\u001b[43m)\u001b[49m\n",
      "\u001b[0;31mTypeError\u001b[0m: isclose(): argument 'input' (position 1) must be Tensor, not int"
     ]
    }
   ],
   "source": [
    "torch.isclose(2,3)"
   ]
  },
  {
   "cell_type": "code",
   "execution_count": 18,
   "id": "2a035513",
   "metadata": {},
   "outputs": [
    {
     "data": {
      "text/plain": [
       "torch.Size([1000000])"
      ]
     },
     "execution_count": 18,
     "metadata": {},
     "output_type": "execute_result"
    }
   ],
   "source": [
    "events_torch[0].shape"
   ]
  },
  {
   "cell_type": "code",
   "execution_count": 36,
   "id": "d79dad70",
   "metadata": {},
   "outputs": [
    {
     "data": {
      "text/plain": [
       "10"
      ]
     },
     "execution_count": 36,
     "metadata": {},
     "output_type": "execute_result"
    }
   ],
   "source": [
    "dim"
   ]
  },
  {
   "cell_type": "code",
   "execution_count": 77,
   "id": "1debedc9",
   "metadata": {},
   "outputs": [
    {
     "name": "stdout",
     "output_type": "stream",
     "text": [
      "tensor(4.7748e-12, dtype=torch.float64)\n"
     ]
    }
   ],
   "source": [
    "#validation term3\n",
    "D__ = compute_deux_(events_np, L)\n",
    "i, j, k = 0, 1, 1\n",
    "dim = 2\n",
    "conv = 0\n",
    "somme = 0\n",
    "idx=np.arange(L)\n",
    "D2_nodiag = D__.copy()\n",
    "D2_nodiag[:, :, idx, idx] = 0\n",
    "D2_ = np.transpose(D2_nodiag, axes=(1, 0, 3, 2)) + D__\n",
    "\n",
    "\n",
    "\n",
    "for tau in range(L):\n",
    "    for tau_p in range(L):\n",
    "        somme += (kernel[i, j, tau] \n",
    "         * kernel[i, k, tau_p]) * D2_[j, k, tau, tau_p]\n",
    "        \n",
    "convij = torch.conv_transpose1d(events_torch[j].view(1, G),\n",
    "                        kernel_values_2[i, j].view(1, 1, L))[:, :-L+1]\n",
    "convik = torch.conv_transpose1d(events_torch[k].view(1, G),\n",
    "                        kernel_values_2[i, k].view(1, 1, L))[:, :-L+1]\n",
    "\n",
    "\n",
    "print(torch.abs((convij * convik).sum()- somme.sum()))"
   ]
  },
  {
   "cell_type": "code",
   "execution_count": 8,
   "id": "78341049",
   "metadata": {},
   "outputs": [
    {
     "name": "stdout",
     "output_type": "stream",
     "text": [
      "tensor(0., dtype=torch.float64)\n"
     ]
    }
   ],
   "source": [
    "#validation term2\n",
    "D = get_zG(np.array(events_np), L)\n",
    "i, j = 1, 0\n",
    "dim = 2\n",
    "conv = 0\n",
    "somme = 0\n",
    "for i in range(dim):\n",
    "    for j in range(dim):\n",
    "        somme += adjacency[i,j] *torch.tensor(D[j], dtype=torch.float64)@kernel_values_2[i,j]\n",
    "        conv += adjacency[i,j] * torch.conv_transpose1d(\n",
    "                        events_torch[j].view(1, G),\n",
    "                        kernel_values_2[i, j].view(1, 1, L))[:, :-L+1]        \n",
    "print((torch.abs(conv.sum()-somme.sum())))"
   ]
  },
  {
   "cell_type": "code",
   "execution_count": 10,
   "id": "64986d3c",
   "metadata": {},
   "outputs": [
    {
     "name": "stdout",
     "output_type": "stream",
     "text": [
      "tensor(4.5475e-13, dtype=torch.float64)\n",
      "tensor(4.5475e-13, dtype=torch.float64)\n"
     ]
    }
   ],
   "source": [
    "#validation term4\n",
    "D_ = compute_un_prime_(events_np, L)\n",
    "somme = 0\n",
    "conv = 0\n",
    "conv2 = 0\n",
    "dim=2\n",
    "timestamps = []\n",
    "for i in range(dim):\n",
    "    timestamps.append(np.where(events_np[i] > 0)[0])\n",
    "    for j in range(dim):\n",
    "        somme += adjacency[i,j] * torch.tensor(D_[i, j], dtype=torch.float64)@kernel_values_2[i,j]\n",
    "\n",
    "        temp = adjacency[i,j] * torch.conv_transpose1d(\n",
    "                        events_torch[j].view(1, G),\n",
    "                        kernel_values_2[i, j].view(1, 1, L))[:, :-L+1]\n",
    "        conv += temp.squeeze()[timestamps[i]].sum()\n",
    "        temp = adjacency[i,j] * kernel_values_2[i, j]\n",
    "        temp2 = torch.conv_transpose1d(\n",
    "                        events_torch[j].view(1, G),\n",
    "                        temp.view(1, 1, L))[:, :-L+1]\n",
    "        conv2 += temp2.squeeze()[timestamps[i]].sum()\n",
    "        \n",
    "print((torch.abs(conv-somme.sum())))\n",
    "print((torch.abs(conv2.sum()-somme.sum())))"
   ]
  },
  {
   "cell_type": "code",
   "execution_count": 3,
   "id": "2ea155b6",
   "metadata": {},
   "outputs": [
    {
     "data": {
      "text/plain": [
       "tensor([2., 0., 2.,  ..., 0., 2., 0.], dtype=torch.float64)"
      ]
     },
     "execution_count": 3,
     "metadata": {},
     "output_type": "execute_result"
    }
   ],
   "source": [
    "from hawkes_discret.kernels import KernelExpDiscret\n",
    "from hawkes_discret.hawkes_discret_l2 import HawkesDiscretL2\n",
    "import torch\n",
    "import numpy as np\n",
    "import matplotlib.pyplot as plt\n",
    "import time\n",
    "kernel_model = 'KernelExpDiscret'\n",
    "baseline = torch.tensor([1.1, 1.3])\n",
    "kernel_params = torch.tensor([[2, 3], [8, 4]])\n",
    "adjacency = torch.tensor([[1, 0.3], [0.1, 0.4]])\n",
    "end_time = 5\n",
    "discret_step = 0.1\n",
    "d1"
   ]
  },
  {
   "cell_type": "code",
   "execution_count": 4,
   "id": "e5b3c189",
   "metadata": {},
   "outputs": [],
   "source": [
    "model = KernelExpDiscret(kernel_params, 1, 0.01)"
   ]
  },
  {
   "cell_type": "code",
   "execution_count": 5,
   "id": "610a48e0",
   "metadata": {},
   "outputs": [
    {
     "name": "stdout",
     "output_type": "stream",
     "text": [
      "CPU times: user 4 µs, sys: 1e+03 ns, total: 5 µs\n",
      "Wall time: 10 µs\n"
     ]
    }
   ],
   "source": [
    "%time\n",
    "kernel_values = model.eval(discret)"
   ]
  },
  {
   "cell_type": "code",
   "execution_count": 12,
   "id": "1eb16b02",
   "metadata": {},
   "outputs": [
    {
     "data": {
      "image/png": "[encoded data removed]",
      "text/plain": [
       "<Figure size 432x288 with 1 Axes>"
      ]
     },
     "metadata": {
      "needs_background": "light"
     },
     "output_type": "display_data"
    }
   ],
   "source": [
    "for i in range(dim):\n",
    "    for j in range(dim):\n",
    "        plt.plot(discret, kernel_values[i,j])"
   ]
  },
  {
   "cell_type": "code",
   "execution_count": 7,
   "id": "9e33a584",
   "metadata": {},
   "outputs": [
    {
     "name": "stdout",
     "output_type": "stream",
     "text": [
      "CPU times: user 7 µs, sys: 1e+03 ns, total: 8 µs\n",
      "Wall time: 14.8 µs\n"
     ]
    }
   ],
   "source": [
    "%time\n",
    "intens = model.intensity_eval(baseline, adjacency, torch.stack(events_torch))\n"
   ]
  },
  {
   "cell_type": "code",
   "execution_count": 8,
   "id": "7af20d06",
   "metadata": {},
   "outputs": [
    {
     "data": {
      "text/plain": [
       "tensor(-299.2478, dtype=torch.float64)"
      ]
     },
     "execution_count": 8,
     "metadata": {},
     "output_type": "execute_result"
    }
   ],
   "source": [
    "lossl2_conv(intens, torch.stack(events_torch), 0.01, T)"
   ]
  },
  {
   "cell_type": "code",
   "execution_count": 8,
   "id": "3fe25133",
   "metadata": {},
   "outputs": [
    {
     "name": "stdout",
     "output_type": "stream",
     "text": [
      "CPU times: user 3 µs, sys: 1e+03 ns, total: 4 µs\n",
      "Wall time: 16.2 µs\n"
     ]
    },
    {
     "data": {
      "text/plain": [
       "tensor([[1.0000, 1.0000],\n",
       "        [1.0000, 1.0000]])"
      ]
     },
     "execution_count": 8,
     "metadata": {},
     "output_type": "execute_result"
    }
   ],
   "source": [
    "%time\n",
    "model.integrate()"
   ]
  },
  {
   "cell_type": "code",
   "execution_count": 9,
   "id": "a69128ce",
   "metadata": {},
   "outputs": [
    {
     "name": "stdout",
     "output_type": "stream",
     "text": [
      "CPU times: user 3 µs, sys: 0 ns, total: 3 µs\n",
      "Wall time: 7.87 µs\n"
     ]
    },
    {
     "data": {
      "text/plain": [
       "torch.Size([2, 2, 100])"
      ]
     },
     "execution_count": 9,
     "metadata": {},
     "output_type": "execute_result"
    }
   ],
   "source": [
    "%time\n",
    "model.grad_params(time).shape"
   ]
  },
  {
   "cell_type": "code",
   "execution_count": 4,
   "id": "25ca4913",
   "metadata": {},
   "outputs": [],
   "source": [
    "from hawkes_discret.kernels import KernelExpDiscret\n",
    "from hawkes_discret.hawkes_discret_l2 import HawkesDiscretL2\n",
    "import torch\n",
    "import numpy as np\n",
    "import matplotlib.pyplot as plt\n",
    "import time\n",
    "kernel_model = 'KernelExpDiscret'\n",
    "baseline = torch.tensor([1.1, 1.3])\n",
    "kernel_params = torch.tensor([[2, 3], [8, 4]])\n",
    "adjacency = torch.tensor([[1, 0.3], [0.1, 0.4]])\n",
    "end_time = 5\n",
    "discret_step = 0.1\n",
    "events = [torch.tensor([0.7653, 0.76187, 2.323, 2.1]),torch.tensor([3.653, 2.76187, 4.323, 3.1]) ]\n",
    "solver = HawkesDiscretL2(kernel_model, kernel_params, \n",
    "                 baseline,  adjacency, discret_step,\n",
    "                 solver='RMSprop', step_size=1e-3,\n",
    "                 max_iter=100, log=False,\n",
    "                 random_state=None, device='cpu')"
   ]
  }
 ],
 "metadata": {
  "kernelspec": {
   "display_name": "Python 3 (ipykernel)",
   "language": "python",
   "name": "python3"
  },
  "language_info": {
   "codemirror_mode": {
    "name": "ipython",
    "version": 3
   },
   "file_extension": ".py",
   "mimetype": "text/x-python",
   "name": "python",
   "nbconvert_exporter": "python",
   "pygments_lexer": "ipython3",
   "version": "3.9.12"
  }
 },
 "nbformat": 4,
 "nbformat_minor": 5
}

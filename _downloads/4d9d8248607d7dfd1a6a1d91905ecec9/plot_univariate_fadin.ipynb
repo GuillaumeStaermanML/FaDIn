{
  "cells": [
    {
      "cell_type": "markdown",
      "metadata": {},
      "source": [
        "\n# FaDIn on simulated univariate Hawkes processes\n\nThis example demonstrates inference performed\nby FaDIn on univariate Hawkes processes simulated\nwith specific kernels.\n"
      ]
    },
    {
      "cell_type": "code",
      "execution_count": null,
      "metadata": {
        "collapsed": false
      },
      "outputs": [],
      "source": [
        "# Authors: Guillaume Staerman <guillaume.staerman@inria.fr>\n#          Alexandre Gramfort <alexandre.gramfort@inria.fr>\n#          Thomas Moreau <thomas.moreau@inria.fr>\n#\n# License: MIT"
      ]
    },
    {
      "cell_type": "markdown",
      "metadata": {},
      "source": [
        "Let us first define the parameters of our model.\n\n"
      ]
    },
    {
      "cell_type": "code",
      "execution_count": null,
      "metadata": {
        "collapsed": false
      },
      "outputs": [],
      "source": [
        "import numpy as np\nimport torch\nimport matplotlib.pyplot as plt\n\nfrom fadin.utils.utils_simu import simu_hawkes_cluster\nfrom fadin.solver import FaDIn\nfrom fadin.kernels import DiscreteKernelFiniteSupport\n\nn_dim = 1\ndt = 0.01\nT = 10_000\nkernel_length = 5\nL = int(1 / dt)\nsize_grid = int(T / dt) + 1\ndiscretization = torch.linspace(0, kernel_length, L)"
      ]
    },
    {
      "cell_type": "markdown",
      "metadata": {},
      "source": [
        "Here, we set the parameters of a Hawkes process with an Exponential(1) distribution.\n\n"
      ]
    },
    {
      "cell_type": "code",
      "execution_count": null,
      "metadata": {
        "collapsed": false
      },
      "outputs": [],
      "source": [
        "baseline = np.array([.4])\nalpha = np.array([[0.8]])\nbeta = 2."
      ]
    },
    {
      "cell_type": "markdown",
      "metadata": {},
      "source": [
        "Here, we simulate the data.\n\n"
      ]
    },
    {
      "cell_type": "code",
      "execution_count": null,
      "metadata": {
        "collapsed": false
      },
      "outputs": [],
      "source": [
        "# standard parameter is beta, the parameter of the exponential distribution,\n# equal to one.\nkernel = 'expon'\nevents = simu_hawkes_cluster(T, baseline, alpha, kernel,\n                             params_kernel={'scale': 1 / beta})"
      ]
    },
    {
      "cell_type": "markdown",
      "metadata": {},
      "source": [
        "Here, we apply FaDIn.\n\n"
      ]
    },
    {
      "cell_type": "code",
      "execution_count": null,
      "metadata": {
        "collapsed": false
      },
      "outputs": [],
      "source": [
        "solver = FaDIn(n_dim=1,\n               kernel=\"truncated_exponential\",\n               kernel_length=kernel_length,\n               delta=dt, optim=\"RMSprop\",\n               params_optim={'lr': 1e-3},\n               max_iter=2000\n               )\nsolver.fit(events, T)\n\n# We average on the 10 last values of the optimization.\n\nestimated_baseline = solver.param_baseline[-10:].mean().item()\nestimated_alpha = solver.param_alpha[-10:].mean().item()\nparam_kernel = [solver.param_kernel[0][-10:].mean().item()]\n\nprint('Estimated baseline is:', estimated_baseline)\nprint('Estimated alpha is:', estimated_alpha)\nprint('Estimated beta parameter of the exponential kernel is:', param_kernel[0])"
      ]
    },
    {
      "cell_type": "markdown",
      "metadata": {},
      "source": [
        "Here, we plot the values of the estimated kernel with FaDIn.\n\n"
      ]
    },
    {
      "cell_type": "code",
      "execution_count": null,
      "metadata": {
        "collapsed": false
      },
      "outputs": [],
      "source": [
        "kernel = DiscreteKernelFiniteSupport(dt, n_dim, kernel='truncated_exponential',\n                                     kernel_length=kernel_length)\nkernel_values = kernel.kernel_eval([torch.Tensor([param_kernel])],\n                                   discretization)\n\nplt.plot(discretization[1:], kernel_values.squeeze()[1:]/kernel_length,\n         label='FaDIn\\' estimated kernel')\nplt.plot(discretization[1:], beta * torch.exp(-discretization[1:]*beta),\n         label='True kernel', c='k')\nplt.title('Hawkes influence kernel', size=20)\nplt.xlabel('Time', size=20)\nplt.ylabel(r'$\\phi(t)$', size=25)\nplt.legend(fontsize='x-large')\nplt.show()"
      ]
    }
  ],
  "metadata": {
    "kernelspec": {
      "display_name": "Python 3",
      "language": "python",
      "name": "python3"
    },
    "language_info": {
      "codemirror_mode": {
        "name": "ipython",
        "version": 3
      },
      "file_extension": ".py",
      "mimetype": "text/x-python",
      "name": "python",
      "nbconvert_exporter": "python",
      "pygments_lexer": "ipython3",
      "version": "3.8.2"
    }
  },
  "nbformat": 4,
  "nbformat_minor": 0
}
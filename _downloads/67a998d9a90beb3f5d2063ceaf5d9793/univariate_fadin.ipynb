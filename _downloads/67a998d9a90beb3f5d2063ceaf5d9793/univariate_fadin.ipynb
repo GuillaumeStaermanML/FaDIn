{
  "cells": [
    {
      "cell_type": "markdown",
      "metadata": {},
      "source": [
        "\n# FaDIn on simulated univariate Hawkes processes\n\nThis example demonstrates inference performed\nby FaDIn on univariate Hawkes processes simulated\nwith specific kernels.\n"
      ]
    },
    {
      "cell_type": "code",
      "execution_count": null,
      "metadata": {
        "collapsed": false
      },
      "outputs": [],
      "source": [
        "# Authors: Guillaume Staerman <guillaume.staerman@inria.fr>\n#          Alexandre Gramfort <alexandre.gramfort@inria.fr>\n#          Thomas Moreau <thomas.moreau@inria.fr>\n#\n# License: MIT"
      ]
    },
    {
      "cell_type": "markdown",
      "metadata": {},
      "source": [
        "Let us first define the parameters of our model.\n%%\n\n"
      ]
    },
    {
      "cell_type": "code",
      "execution_count": null,
      "metadata": {
        "collapsed": false
      },
      "outputs": [],
      "source": [
        "import numpy as np\nimport torch\n\nfrom fadin.utils.utils_simu import simu_hawkes_cluster\nfrom fadin.solver import FaDIn\n\nn_dim = 1\ndt = 0.01\nT = 1_000_000\nkernel_length = 5\nL = int(1 / dt)\nsize_grid = int(T / dt) + 1\ndiscretization = torch.linspace(0, kernel_length, L)"
      ]
    },
    {
      "cell_type": "markdown",
      "metadata": {},
      "source": [
        "Here, we set the parameters of a Hawkes process with a Raised Cosine kernel\n\n"
      ]
    },
    {
      "cell_type": "code",
      "execution_count": null,
      "metadata": {
        "collapsed": false
      },
      "outputs": [],
      "source": [
        "baseline = np.array([.4])\nalpha = np.array([[0.8]])"
      ]
    },
    {
      "cell_type": "markdown",
      "metadata": {},
      "source": [
        "##############################################################################\n Here, we simulate the data\n\n"
      ]
    },
    {
      "cell_type": "code",
      "execution_count": null,
      "metadata": {
        "collapsed": false
      },
      "outputs": [],
      "source": [
        "# standard parameter is beta equal to one\nkernel = 'expon' \n\nevents = simu_hawkes_cluster(T, baseline, alpha, kernel)"
      ]
    },
    {
      "cell_type": "markdown",
      "metadata": {},
      "source": [
        "Here, we apply FaDIn\n\n"
      ]
    },
    {
      "cell_type": "code",
      "execution_count": null,
      "metadata": {
        "collapsed": false
      },
      "outputs": [],
      "source": [
        "solver = FaDIn(n_dim=1,\n               kernel=\"truncated_exponential\",\n               kernel_length=kernel_length,\n               delta=dt, optim=\"RMSprop\",\n               params_optim={'lr': 1e-3},\n               max_iter=10000, criterion='l2'\n               )\nsolver.fit(events, T)\n\n# We average on the 10 last values of the optimization\nestimated_baseline = solver.param_baseline[-10:].mean().item()\nestimated_alpha = solver.param_alpha[-10:].mean().item()\nparam_kernel = [solver.param_kernel[0][-10:].mean().item()]\n\nprint('Estimated baseline is:', estimated_baseline)\nprint('Estimated alpha is:', estimated_alpha)\nprint('Estimated beta parameter of the exponential kernel is:', param_kernel[0])"
      ]
    }
  ],
  "metadata": {
    "kernelspec": {
      "display_name": "Python 3",
      "language": "python",
      "name": "python3"
    },
    "language_info": {
      "codemirror_mode": {
        "name": "ipython",
        "version": 3
      },
      "file_extension": ".py",
      "mimetype": "text/x-python",
      "name": "python",
      "nbconvert_exporter": "python",
      "pygments_lexer": "ipython3",
      "version": "3.8.2"
    }
  },
  "nbformat": 4,
  "nbformat_minor": 0
}